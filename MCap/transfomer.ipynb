{
 "cells": [
  {
   "cell_type": "code",
   "execution_count": 1,
   "metadata": {},
   "outputs": [],
   "source": [
    "import torch\n",
    "import torch.nn as nn\n",
    "import matplotlib.pyplot as plt\n",
    "import torch.optim as optim\n",
    "import numpy as np\n",
    "import plotly.graph_objs as go\n",
    "import pandas\n",
    "import os\n",
    "import psutil #to get the memory used\n",
    "import os\n"
   ]
  },
  {
   "cell_type": "code",
   "execution_count": 17,
   "metadata": {},
   "outputs": [
    {
     "name": "stdout",
     "output_type": "stream",
     "text": [
      "cuda\n"
     ]
    }
   ],
   "source": [
    "if torch.cuda.is_available():\n",
    "    device = \"cuda\"\n",
    "else:\n",
    "    device = \"cpu\"\n",
    "\n",
    "print(device)"
   ]
  },
  {
   "cell_type": "code",
   "execution_count": null,
   "metadata": {},
   "outputs": [],
   "source": [
    "combined_sequences = []\n",
    "\n",
    "leave = []  # List to store indices of files not considered\n",
    "####change foolder location\n",
    "dirs = os.listdir('NMP')\n",
    "c = 0\n",
    "for d in dirs:\n",
    "    count = len(list(os.listdir(os.path.join('NMP', d))))\n",
    "    print(count)\n",
    "    for i in range(count):\n",
    "        c += 1\n",
    "        # Load the .npz file\n",
    "        ####change foolder location before NMP\n",
    "        data = np.load(f'NMP/{d}/{d}_{i}.npz')\n",
    "        \n",
    "        # Extract relevant data\n",
    "        position_data = data['position']  # Assuming 'position' is a key in the .npz file\n",
    "        \n",
    "        # Extract x, y, z coordinates\n",
    "        x = position_data[:, 0][:100]  # Get the first 100 x coordinates\n",
    "        y = position_data[:, 1][:100]  # Get the first 100 y coordinates\n",
    "        z = position_data[:, 2][:100]  # Get the first 100 z coordinates\n",
    "        \n",
    "        # Check if the sequence is long enough\n",
    "        if len(x) == 100:\n",
    "            combined_sequence = np.vstack((x, y, z)).T  # Stack x, y, z and transpose to get shape (100, 3)\n",
    "            combined_sequences.append(combined_sequence)\n",
    "             ####change foolder location before NMP\n",
    "            print(f'NMP/trimmed_Bamboo/trimmed_Bamboo_{i}.npz - Loaded successfully')\n",
    "        else:\n",
    "             ####change foolder location before NMP\n",
    "            leave.append(f'NMP/{d}/{d}_{i}.npz')\n",
    "            print(f'NMP/trimmed_Bamboo/trimmed_Bamboo_{i}.npz - left')\n",
    "        \n",
    "        print(\"---------------------------\")\n",
    "\n",
    "\n",
    "    # Convert list to NumPy array\n",
    "    combined_array = np.array(combined_sequences)\n",
    "\n",
    "    # Convert NumPy array to PyTorch tensor\n",
    "    combined_tensor = torch.tensor(combined_array, dtype=torch.float32)\n",
    "\n",
    "\n",
    "    # Now combined_tensor can be used for training your LSTM model\n",
    "print(combined_tensor.shape)  # Should print torch.Size([163, 100, 3])\n",
    "\n",
    "print(c)"
   ]
  },
  {
   "cell_type": "code",
   "execution_count": 19,
   "metadata": {},
   "outputs": [],
   "source": [
    "combined_tensor = combined_tensor.to(device)"
   ]
  },
  {
   "cell_type": "code",
   "execution_count": 20,
   "metadata": {},
   "outputs": [],
   "source": [
    "\n",
    "test_data = np.load(f'NMP/trimmed_Bamboo/trimmed_Bamboo_{47}.npz')\n",
    "\n",
    "position_data = test_data['position'][:100]  # Limit to the first 100 samples if necessary\n",
    "\n",
    "mid_point = position_data.shape[0] // 2\n",
    "\n",
    "# Prepare the input and target tensors\n",
    "test_input = torch.tensor(position_data[:mid_point], dtype=torch.float32).unsqueeze(0)  # First half\n",
    "test_target = torch.tensor(position_data[mid_point:], dtype=torch.float32).unsqueeze(0)  # Second half\n",
    "\n",
    "# Transfer tensors to the appropriate device (GPU or CPU)\n",
    "test_input_4 = test_input.to(device)\n",
    "test_target_4 = test_target.to(device)\n"
   ]
  },
  {
   "cell_type": "code",
   "execution_count": 21,
   "metadata": {},
   "outputs": [],
   "source": [
    "position_data = torch.tensor(position_data)\n",
    "position_data = position_data.to(device)"
   ]
  },
  {
   "cell_type": "code",
   "execution_count": 22,
   "metadata": {},
   "outputs": [
    {
     "data": {
      "text/plain": [
       "tensor([[[ 1.0006,  1.2619,  1.8557],\n",
       "         [ 0.9993,  1.3053,  1.8195],\n",
       "         [ 0.9999,  1.3470,  1.7853],\n",
       "         ...,\n",
       "         [ 0.8238,  2.0998, -1.2494],\n",
       "         [ 0.8214,  2.0753, -1.2787],\n",
       "         [ 0.8192,  2.0507, -1.3079]],\n",
       "\n",
       "        [[ 1.0979,  1.2421,  1.8938],\n",
       "         [ 1.0934,  1.2864,  1.8607],\n",
       "         [ 1.0895,  1.3295,  1.8273],\n",
       "         ...,\n",
       "         [ 0.8766,  2.2128, -1.1789],\n",
       "         [ 0.8738,  2.1914, -1.2095],\n",
       "         [ 0.8710,  2.1696, -1.2403]],\n",
       "\n",
       "        [[ 0.9545,  0.7337, -2.0168],\n",
       "         [ 0.9555,  0.7594, -1.9725],\n",
       "         [ 0.9570,  0.7893, -1.9274],\n",
       "         ...,\n",
       "         [ 1.1758,  1.4907,  1.7906],\n",
       "         [ 1.1789,  1.4662,  1.8246],\n",
       "         [ 1.1822,  1.4405,  1.8593]],\n",
       "\n",
       "        ...,\n",
       "\n",
       "        [[ 1.3530,  0.6545,  3.4689],\n",
       "         [ 1.3512,  0.6912,  3.4029],\n",
       "         [ 1.3490,  0.7340,  3.3395],\n",
       "         ...,\n",
       "         [ 0.9526,  2.3103, -1.0961],\n",
       "         [ 0.9489,  2.2920, -1.1348],\n",
       "         [ 0.9454,  2.2731, -1.1734]],\n",
       "\n",
       "        [[ 0.5332,  1.0907, -2.5163],\n",
       "         [ 0.5417,  1.1376, -2.4620],\n",
       "         [ 0.5480,  1.1812, -2.4103],\n",
       "         ...,\n",
       "         [ 1.0603,  2.0895,  1.7512],\n",
       "         [ 1.0645,  2.0670,  1.7889],\n",
       "         [ 1.0684,  2.0441,  1.8263]],\n",
       "\n",
       "        [[ 1.2277,  0.7855,  3.4238],\n",
       "         [ 1.2234,  0.8374,  3.3553],\n",
       "         [ 1.2192,  0.8918,  3.2901],\n",
       "         ...,\n",
       "         [ 0.8040,  2.3023, -1.5070],\n",
       "         [ 0.8008,  2.2827, -1.5465],\n",
       "         [ 0.7978,  2.2629, -1.5855]]], device='cuda:0')"
      ]
     },
     "execution_count": 22,
     "metadata": {},
     "output_type": "execute_result"
    }
   ],
   "source": [
    "combined_tensor"
   ]
  },
  {
   "cell_type": "code",
   "execution_count": 10,
   "metadata": {},
   "outputs": [],
   "source": [
    "class TransformerModel(nn.Module):\n",
    "    def __init__(self, n_input=3, n_hidden=128, n_output=3, n_layers=3, n_heads=8, dropout=0.1):\n",
    "        super(TransformerModel, self).__init__()\n",
    "        self.n_hidden = n_hidden\n",
    "        self.embedding = nn.Linear(n_input, n_hidden)\n",
    "        self.positional_encoding = PositionalEncoding(n_hidden, dropout)\n",
    "        \n",
    "        # Transformer encoder\n",
    "        encoder_layer = nn.TransformerEncoderLayer(d_model=n_hidden, nhead=n_heads)\n",
    "        self.transformer_encoder = nn.TransformerEncoder(encoder_layer, num_layers=n_layers)\n",
    "        \n",
    "        # Decoder to map to output dimensions\n",
    "        self.decoder = nn.Linear(n_hidden, n_output)\n",
    "\n",
    "    # In the forward method of your Transformer model\n",
    "    def forward(self, src, future=0):\n",
    "        src = self.embedding(src) * torch.sqrt(torch.tensor(self.n_hidden, dtype=torch.float32))\n",
    "        src = self.positional_encoding(src)\n",
    "        \n",
    "        # Permute to [sequence_length, batch_size, embedding_size] if necessary\n",
    "        src = src.permute(1, 0, 2)  # Shape adjustment for transformer input\n",
    "        \n",
    "        # Pass through the transformer encoder\n",
    "        output = self.transformer_encoder(src)\n",
    "        \n",
    "        # Permute back to original [batch_size, sequence_length, embedding_size]\n",
    "        output = output.permute(1, 0, 2)\n",
    "        output = self.decoder(output)\n",
    "        \n",
    "        return output\n",
    "\n",
    "\n",
    "class PositionalEncoding(nn.Module):\n",
    "    def __init__(self, d_model, dropout=0.1, max_len=5000):\n",
    "        super(PositionalEncoding, self).__init__()\n",
    "        self.dropout = nn.Dropout(p=dropout)\n",
    "        \n",
    "        # Compute the positional encodings\n",
    "        pe = torch.zeros(max_len, d_model)\n",
    "        position = torch.arange(0, max_len, dtype=torch.float).unsqueeze(1)\n",
    "        div_term = torch.exp(torch.arange(0, d_model, 2).float() * (-torch.log(torch.tensor(10000.0)) / d_model))\n",
    "        pe[:, 0::2] = torch.sin(position * div_term)\n",
    "        pe[:, 1::2] = torch.cos(position * div_term)\n",
    "        pe = pe.unsqueeze(0).transpose(0, 1)\n",
    "        self.register_buffer('pe', pe)\n",
    "\n",
    "    def forward(self, x):\n",
    "        x = x + self.pe[:x.size(0), :]\n",
    "        return self.dropout(x)"
   ]
  },
  {
   "cell_type": "code",
   "execution_count": null,
   "metadata": {},
   "outputs": [],
   "source": [
    "class lstmpred(nn.Module):\n",
    "    def __init__(self, n_hidden=51):\n",
    "        super(lstmpred, self).__init__()\n",
    "        self.n_hidden = n_hidden\n",
    "        self.lstm1 = nn.LSTMCell(3, self.n_hidden)\n",
    "        self.lstm2 = nn.LSTMCell(self.n_hidden, self.n_hidden)\n",
    "        self.lstm3 = nn.LSTMCell(self.n_hidden, self.n_hidden)  # lstm3\n",
    "        self.lstm4 = nn.LSTMCell(self.n_hidden, self.n_hidden)  # lstm4\n",
    "        self.lstm5 = nn.LSTMCell(self.n_hidden, self.n_hidden)  # lstm5 (new layer)\n",
    "        self.lstm6 = nn.LSTMCell(self.n_hidden, self.n_hidden)  # lstm6 (new layer)\n",
    "        self.linear = nn.Linear(self.n_hidden, 3)\n",
    "\n",
    "    def forward(self, x, future=0):\n",
    "        outputs = []\n",
    "        n_samples = x.size(0)  # Batch size\n",
    "\n",
    "        # Initialize hidden and cell states for all LSTM layers\n",
    "        h_t = torch.zeros(n_samples, self.n_hidden, dtype=torch.float32).to(device)\n",
    "        c_t = torch.zeros(n_samples, self.n_hidden, dtype=torch.float32).to(device)\n",
    "        h_t2 = torch.zeros(n_samples, self.n_hidden, dtype=torch.float32).to(device)\n",
    "        c_t2 = torch.zeros(n_samples, self.n_hidden, dtype=torch.float32).to(device)\n",
    "        h_t3 = torch.zeros(n_samples, self.n_hidden, dtype=torch.float32).to(device)\n",
    "        c_t3 = torch.zeros(n_samples, self.n_hidden, dtype=torch.float32).to(device)\n",
    "        h_t4 = torch.zeros(n_samples, self.n_hidden, dtype=torch.float32).to(device)\n",
    "        c_t4 = torch.zeros(n_samples, self.n_hidden, dtype=torch.float32).to(device)\n",
    "        #h_t5 = torch.zeros(n_samples, self.n_hidden, dtype=torch.float32).to(device)  # For lstm5\n",
    "        #c_t5 = torch.zeros(n_samples, self.n_hidden, dtype=torch.float32).to(device)  # For lstm5\n",
    "        #h_t6 = torch.zeros(n_samples, self.n_hidden, dtype=torch.float32).to(device)  # For lstm6\n",
    "        #c_t6 = torch.zeros(n_samples, self.n_hidden, dtype=torch.float32).to(device)  # For lstm6\n",
    "\n",
    "        for input in x.split(1, dim=1):  # Input shape [batch_size, 1, 3]\n",
    "            input = input.squeeze(1)  # Shape [batch_size, 3]\n",
    "            h_t, c_t = self.lstm1(input, (h_t, c_t))\n",
    "            h_t2, c_t2 = self.lstm2(h_t, (h_t2, c_t2))\n",
    "            h_t3, c_t3 = self.lstm3(h_t2, (h_t3, c_t3))\n",
    "            h_t4, c_t4 = self.lstm4(h_t3, (h_t4, c_t4))\n",
    "            #h_t5, c_t5 = self.lstm5(h_t4, (h_t5, c_t5))  # Add lstm5 layer processing\n",
    "            #h_t6, c_t6 = self.lstm6(h_t5, (h_t6, c_t6))  # Add lstm6 layer processing\n",
    "            output = self.linear(h_t4)  # Output from the last LSTM layer (lstm6)\n",
    "            outputs.append(output)\n",
    "\n",
    "        for i in range(future):\n",
    "            h_t, c_t = self.lstm1(output, (h_t, c_t))\n",
    "            h_t2, c_t2 = self.lstm2(h_t, (h_t2, c_t2))\n",
    "            h_t3, c_t3 = self.lstm3(h_t2, (h_t3, c_t3))\n",
    "            h_t4, c_t4 = self.lstm4(h_t3, (h_t4, c_t4))\n",
    "            #h_t5, c_t5 = self.lstm5(h_t4, (h_t5, c_t5))  # Add lstm5 layer processing\n",
    "            #h_t6, c_t6 = self.lstm6(h_t5, (h_t6, c_t6))  # Add lstm6 layer processing\n",
    "            output = self.linear(h_t4)\n",
    "            outputs.append(output)\n",
    "\n",
    "        outputs = torch.stack(outputs, dim=1)  # Shape [batch_size, sequence_length, 3]\n",
    "        return outputs"
   ]
  },
  {
   "cell_type": "code",
   "execution_count": 12,
   "metadata": {},
   "outputs": [],
   "source": [
    "train_input = combined_tensor[3:, :-1]   # leave the last time step for training input\n",
    "train_target = combined_tensor[3:, 1:]   # training target is shifted by one step\n",
    "test_input = combined_tensor[:3, :-1]    # first 3 sequences for testing\n",
    "test_target = combined_tensor[:3, 1:]    # testing target is also shifted by one step\n",
    "\n",
    "train_input = train_input.permute(1, 0, 2)  # Adjust for transformer input\n",
    "train_target = train_target.permute(1, 0, 2)  # Ensure targets match shape as needed"
   ]
  },
  {
   "cell_type": "code",
   "execution_count": null,
   "metadata": {},
   "outputs": [],
   "source": [
    "###this is for  overall trajectory optimisation\n",
    "# Initialize the model\n",
    "model = TransformerModel()  \n",
    "model = model.to(device)\n",
    "\n",
    "# Define the loss function and optimizer\n",
    "criterion = nn.MSELoss()\n",
    "optimizer = optim.LBFGS(model.parameters(), lr=0.8)\n",
    "n_steps = 100  # Number of steps to train the model\n",
    "\n",
    "for i in range(n_steps):\n",
    "    print(\"Step:\", i + 1)\n",
    "\n",
    "    def closure():\n",
    "        optimizer.zero_grad()\n",
    "        out = model(train_input)\n",
    "        loss = criterion(out, train_target)\n",
    "        print('Training loss:', loss.item())\n",
    "        loss.backward()\n",
    "        return loss\n",
    "\n",
    "    optimizer.step(closure)\n",
    "    pid = os.getpid()\n",
    "    py = psutil.Process(pid)\n",
    "    memoryUse = py.memory_info()[0] / 2.**30  # Convert from bytes to GB\n",
    "    print(f\"Memory Usage: {memoryUse:.2f} GB\")\n",
    "\n",
    "    # Testing phase\n",
    "    with torch.no_grad():\n",
    "        future = 100  # Predict 100 future steps beyond the test sequence\n",
    "        pred = model(test_input, future=future)\n",
    "        loss = criterion(pred[:, :-future], test_target)\n",
    "        print('Test loss:', loss.item())\n",
    "        y_pred = pred.cpu().detach().numpy()"
   ]
  },
  {
   "cell_type": "code",
   "execution_count": null,
   "metadata": {},
   "outputs": [],
   "source": [
    "torch.save(model.state_dict(), 'model-transformer.pth')"
   ]
  },
  {
   "cell_type": "code",
   "execution_count": 23,
   "metadata": {},
   "outputs": [],
   "source": [
    "\n",
    "model = torch.load('model.pt')\n",
    "model.eval()\n",
    "with torch.no_grad():\n",
    "    # Predict the second half of the sequence based on the first half\n",
    "    future_steps = test_target_4.size(1)  # Number of future steps equals the length of the second half\n",
    "    prediction = model(test_input_4, future=future_steps)\n",
    "\n",
    "    # Extract the predicted second half\n",
    "    predicted_output = prediction[:, -future_steps:]  # Only take the predicted future steps\n",
    "\n",
    "    # Move the tensors to CPU and convert to NumPy arrays\n",
    "    prediction = prediction.cpu().detach().numpy()\n",
    "    predicted_output = predicted_output.cpu().detach().numpy()"
   ]
  },
  {
   "cell_type": "code",
   "execution_count": 24,
   "metadata": {},
   "outputs": [],
   "source": [
    "position_data = position_data.cpu().numpy()"
   ]
  },
  {
   "cell_type": "code",
   "execution_count": 25,
   "metadata": {},
   "outputs": [
    {
     "data": {
      "text/plain": [
       "array([[ 1.2757837 ,  1.2094941 ,  3.074891  ],\n",
       "       [ 1.2795182 ,  1.2619383 ,  3.0293748 ],\n",
       "       [ 1.2568407 ,  1.3041964 ,  2.9469788 ],\n",
       "       [ 1.2640147 ,  1.3264451 ,  2.8960125 ],\n",
       "       [ 1.2619343 ,  1.3565564 ,  2.832408  ],\n",
       "       [ 1.2572932 ,  1.3892791 ,  2.771588  ],\n",
       "       [ 1.251484  ,  1.420764  ,  2.7119644 ],\n",
       "       [ 1.245144  ,  1.4503865 ,  2.652693  ],\n",
       "       [ 1.2388198 ,  1.47839   ,  2.5922272 ],\n",
       "       [ 1.2327343 ,  1.5059452 ,  2.5319366 ],\n",
       "       [ 1.2293607 ,  1.530251  ,  2.4739208 ],\n",
       "       [ 1.2229029 ,  1.5569589 ,  2.4113827 ],\n",
       "       [ 1.2179047 ,  1.5809803 ,  2.3520353 ],\n",
       "       [ 1.2111878 ,  1.606188  ,  2.2900043 ],\n",
       "       [ 1.2057424 ,  1.6288772 ,  2.2310658 ],\n",
       "       [ 1.2007631 ,  1.6511042 ,  2.1711264 ],\n",
       "       [ 1.1959758 ,  1.672478  ,  2.110871  ],\n",
       "       [ 1.1904755 ,  1.6935959 ,  2.049903  ],\n",
       "       [ 1.1852107 ,  1.714423  ,  1.9893123 ],\n",
       "       [ 1.1810306 ,  1.7352836 ,  1.9306344 ],\n",
       "       [ 1.176589  ,  1.7543468 ,  1.8703774 ],\n",
       "       [ 1.1720392 ,  1.773601  ,  1.8097037 ],\n",
       "       [ 1.1676294 ,  1.7919888 ,  1.7489264 ],\n",
       "       [ 1.1629177 ,  1.8102033 ,  1.6882348 ],\n",
       "       [ 1.1575707 ,  1.8273823 ,  1.6283096 ],\n",
       "       [ 1.1530281 ,  1.8443911 ,  1.5673684 ],\n",
       "       [ 1.1486902 ,  1.8619993 ,  1.5077276 ],\n",
       "       [ 1.1439518 ,  1.8779633 ,  1.4477783 ],\n",
       "       [ 1.1394885 ,  1.893657  ,  1.3883764 ],\n",
       "       [ 1.1351182 ,  1.908884  ,  1.3291628 ],\n",
       "       [ 1.1305187 ,  1.9234598 ,  1.2702385 ],\n",
       "       [ 1.1261365 ,  1.937496  ,  1.2116152 ],\n",
       "       [ 1.1217897 ,  1.9511292 ,  1.1535174 ],\n",
       "       [ 1.117384  ,  1.9641061 ,  1.095718  ],\n",
       "       [ 1.1132699 ,  1.9764345 ,  1.0385553 ],\n",
       "       [ 1.109258  ,  1.9880767 ,  0.98153716],\n",
       "       [ 1.1051126 ,  1.9988816 ,  0.9253546 ],\n",
       "       [ 1.100315  ,  2.0087864 ,  0.8696016 ],\n",
       "       [ 1.0974612 ,  2.0183616 ,  0.8134305 ],\n",
       "       [ 1.0926653 ,  2.0267327 ,  0.757469  ],\n",
       "       [ 1.0890496 ,  2.0345724 ,  0.70322084],\n",
       "       [ 1.08404   ,  2.0408344 ,  0.6479149 ],\n",
       "       [ 1.0799283 ,  2.0473218 ,  0.5931701 ],\n",
       "       [ 1.0766375 ,  2.0526848 ,  0.5394111 ],\n",
       "       [ 1.072355  ,  2.0571907 ,  0.48499224],\n",
       "       [ 1.0683054 ,  2.0606878 ,  0.43091166],\n",
       "       [ 1.0639652 ,  2.0633926 ,  0.37614456],\n",
       "       [ 1.0599475 ,  2.0654442 ,  0.32303262],\n",
       "       [ 1.055654  ,  2.066717  ,  0.26863092],\n",
       "       [ 1.051472  ,  2.0671937 ,  0.21507226],\n",
       "       [ 1.047171  ,  2.0671945 ,  0.16370258],\n",
       "       [ 1.0428    ,  2.0663483 ,  0.11331761],\n",
       "       [ 1.0383486 ,  2.0646176 ,  0.06392658],\n",
       "       [ 1.033841  ,  2.0619571 ,  0.01554827],\n",
       "       [ 1.0292873 ,  2.05834   , -0.03179453],\n",
       "       [ 1.0246987 ,  2.0537534 , -0.07808772],\n",
       "       [ 1.0200872 ,  2.048193  , -0.12332076],\n",
       "       [ 1.0154645 ,  2.0416632 , -0.16748804],\n",
       "       [ 1.010843  ,  2.0341759 , -0.21059068],\n",
       "       [ 1.0062355 ,  2.0257483 , -0.25263202],\n",
       "       [ 1.0016556 ,  2.0164042 , -0.29362282],\n",
       "       [ 0.9971173 ,  2.0061717 , -0.33357784],\n",
       "       [ 0.99263555,  1.9950829 , -0.37251678],\n",
       "       [ 0.98822623,  1.9831731 , -0.41046357],\n",
       "       [ 0.98390555,  1.9704819 , -0.44744635],\n",
       "       [ 0.979691  ,  1.9570503 , -0.48349696],\n",
       "       [ 0.9756012 ,  1.9429235 , -0.5186519 ],\n",
       "       [ 0.97165465,  1.9281483 , -0.55295116],\n",
       "       [ 0.96787125,  1.9127729 , -0.5864352 ],\n",
       "       [ 0.96427166,  1.8968482 , -0.6191506 ],\n",
       "       [ 0.9608773 ,  1.8804269 , -0.6511437 ],\n",
       "       [ 0.9577093 ,  1.8635633 , -0.6824651 ],\n",
       "       [ 0.95478976,  1.846313  , -0.7131653 ],\n",
       "       [ 0.95214045,  1.8287327 , -0.74329704],\n",
       "       [ 0.94978327,  1.8108807 , -0.77291447],\n",
       "       [ 0.94773966,  1.7928154 , -0.8020725 ],\n",
       "       [ 0.9460302 ,  1.7745962 , -0.8308263 ],\n",
       "       [ 0.94467473,  1.7562826 , -0.8592307 ],\n",
       "       [ 0.9436913 ,  1.7379336 , -0.8873414 ],\n",
       "       [ 0.9430965 ,  1.7196074 , -0.9152125 ],\n",
       "       [ 0.9429051 ,  1.7013607 , -0.9428962 ],\n",
       "       [ 0.94312966,  1.6832492 , -0.9704454 ],\n",
       "       [ 0.9437793 ,  1.6653256 , -0.9979079 ],\n",
       "       [ 0.9448612 ,  1.6476402 , -1.0253323 ],\n",
       "       [ 0.9463787 ,  1.6302395 , -1.0527638 ],\n",
       "       [ 0.9483323 ,  1.6131661 , -1.0802442 ],\n",
       "       [ 0.95071894,  1.5964584 , -1.1078122 ],\n",
       "       [ 0.9535317 ,  1.5801504 , -1.1355033 ],\n",
       "       [ 0.9567596 ,  1.56427   , -1.1633493 ],\n",
       "       [ 0.96038896,  1.5488403 , -1.1913778 ],\n",
       "       [ 0.96440136,  1.5338783 , -1.2196122 ],\n",
       "       [ 0.96877474,  1.5193951 , -1.248073  ],\n",
       "       [ 0.9734836 ,  1.5053964 , -1.2767756 ],\n",
       "       [ 0.9784995 ,  1.4918811 , -1.3057324 ],\n",
       "       [ 0.9837899 ,  1.4788437 , -1.3349507 ],\n",
       "       [ 0.98931974,  1.4662724 , -1.364434  ],\n",
       "       [ 0.9950511 ,  1.4541502 , -1.3941823 ],\n",
       "       [ 1.0009438 ,  1.4424553 , -1.4241915 ],\n",
       "       [ 1.0069549 ,  1.4311619 , -1.4544541 ],\n",
       "       [ 1.0130404 ,  1.4202399 , -1.484958  ]], dtype=float32)"
      ]
     },
     "execution_count": 25,
     "metadata": {},
     "output_type": "execute_result"
    }
   ],
   "source": [
    "prediction.squeeze(0)"
   ]
  },
  {
   "cell_type": "code",
   "execution_count": 26,
   "metadata": {},
   "outputs": [],
   "source": [
    "prediction = np.squeeze(prediction, axis=0)"
   ]
  },
  {
   "cell_type": "code",
   "execution_count": 27,
   "metadata": {},
   "outputs": [
    {
     "data": {
      "text/plain": [
       "(100, 3)"
      ]
     },
     "execution_count": 27,
     "metadata": {},
     "output_type": "execute_result"
    }
   ],
   "source": [
    "prediction.shape"
   ]
  },
  {
   "cell_type": "code",
   "execution_count": 28,
   "metadata": {},
   "outputs": [
    {
     "data": {
      "application/vnd.plotly.v1+json": {
       "config": {
        "plotlyServerURL": "https://plot.ly"
       },
       "data": [
        {
         "line": {
          "color": "blue",
          "width": 2
         },
         "marker": {
          "color": "blue",
          "size": 5
         },
         "mode": "lines+markers",
         "name": "Actual Data (First Half)",
         "type": "scatter3d",
         "x": [
          1.292330026626587,
          1.2859419584274292,
          1.2806689739227295,
          1.2735240459442139,
          1.2669830322265625,
          1.2609729766845703,
          1.2553240060806274,
          1.2494709491729736,
          1.2435109615325928,
          1.2375580072402954,
          1.2338529825210571,
          1.227465033531189,
          1.2225099802017212,
          1.2160860300064087,
          1.2107059955596924,
          1.2055939435958862,
          1.2005560398101807,
          1.1950520277023315,
          1.1897449493408203,
          1.1852459907531738,
          1.180711030960083,
          1.1760979890823364,
          1.171576976776123,
          1.166903018951416,
          1.161818027496338,
          1.1572370529174805,
          1.1526989936828613,
          1.1480909585952759,
          1.143676996231079,
          1.1392420530319214,
          1.134719967842102,
          1.1303479671478271,
          1.1259870529174805,
          1.121621012687683,
          1.117475986480713,
          1.1134090423583984,
          1.109294056892395,
          1.1047430038452148,
          1.1014469861984253,
          1.0968960523605347,
          1.0932060480117798,
          1.0885419845581055,
          1.0843579769134521,
          1.0807490348815918,
          1.0765800476074219,
          1.072564959526062,
          1.068289041519165,
          1.0642199516296387,
          1.0599520206451416,
          1.0557639598846436,
          1.0521260499954224,
          1.0478320121765137,
          1.04352605342865,
          1.039592981338501,
          1.0353100299835205,
          1.0319160223007202,
          1.0276089906692505,
          1.0232980251312256,
          1.0192489624023438,
          1.0148199796676636,
          1.0109310150146484,
          1.0068720579147339,
          1.0026600360870361,
          0.9986330270767212,
          0.9943150281906128,
          0.9901859760284424,
          0.9861459732055664,
          0.9819530248641968,
          0.9776489734649658,
          0.973583996295929,
          0.9693329930305481,
          0.9650599956512451,
          0.9610530138015747,
          0.9565489888191223,
          0.9514719843864441,
          0.9480839967727661,
          0.9440360069274902,
          0.9392920136451721,
          0.9333710074424744,
          0.929947018623352,
          0.9274330139160156,
          0.9231359958648682,
          0.918940007686615,
          0.9154509902000427,
          0.911532998085022,
          0.9077029824256897,
          0.9039390087127686,
          0.9003599882125854,
          0.8966950178146362,
          0.893185019493103,
          0.889726996421814,
          0.8863019943237305,
          0.8831560015678406,
          0.8795179724693298,
          0.87636399269104,
          0.8729280233383179,
          0.8695570230484009,
          0.8662099838256836,
          0.862837016582489,
          0.8594980239868164
         ],
         "y": [
          1.1956039667129517,
          1.229114055633545,
          1.2633490562438965,
          1.2959810495376587,
          1.328076958656311,
          1.3591649532318115,
          1.3894009590148926,
          1.4187380075454712,
          1.4470900297164917,
          1.4751269817352295,
          1.5006550550460815,
          1.5276490449905396,
          1.5527739524841309,
          1.5783189535140991,
          1.602128028869629,
          1.6251380443572998,
          1.6473950147628784,
          1.6692219972610474,
          1.69064199924469,
          1.7119120359420776,
          1.7318660020828247,
          1.751615047454834,
          1.7707079648971558,
          1.7894550561904907,
          1.8074350357055664,
          1.8249529600143433,
          1.8427870273590088,
          1.8595579862594604,
          1.875815987586975,
          1.891672968864441,
          1.9069379568099976,
          1.9216279983520508,
          1.9358789920806885,
          1.9495429992675781,
          1.9625660181045532,
          1.974938988685608,
          1.9865700006484985,
          1.9973950386047363,
          2.007589101791382,
          2.016974925994873,
          2.0255959033966064,
          2.0330450534820557,
          2.040153980255127,
          2.046381950378418,
          2.0517990589141846,
          2.056283950805664,
          2.0599451065063477,
          2.062872886657715,
          2.0650339126586914,
          2.066409111022949,
          2.0671629905700684,
          2.067199945449829,
          2.06606388092041,
          2.064117908477783,
          2.0619239807128906,
          2.058638095855713,
          2.054466962814331,
          2.049567937850952,
          2.044126033782959,
          2.0383970737457275,
          2.031303882598877,
          2.0239551067352295,
          2.0157248973846436,
          2.0069570541381836,
          1.997467041015625,
          1.9872150421142578,
          1.9763339757919312,
          1.964730978012085,
          1.9523290395736694,
          1.9398709535598755,
          1.9264500141143799,
          1.9125139713287354,
          1.898089051246643,
          1.8829360008239746,
          1.8667320013046265,
          1.8507980108261108,
          1.8339200019836426,
          1.81598699092865,
          1.7972700595855713,
          1.7793879508972168,
          1.7611709833145142,
          1.7419849634170532,
          1.7221829891204834,
          1.701611042022705,
          1.6807340383529663,
          1.659762978553772,
          1.6371870040893555,
          1.6154530048370361,
          1.5921980142593384,
          1.5687789916992188,
          1.544877052307129,
          1.5204540491104126,
          1.4953269958496094,
          1.469612956047058,
          1.443503975868225,
          1.4164910316467285,
          1.389119029045105,
          1.360906958580017,
          1.3319770097732544,
          1.3024510145187378
         ],
         "z": [
          3.1334099769592285,
          3.0722579956054688,
          3.011712074279785,
          2.950773000717163,
          2.8892199993133545,
          2.828671932220459,
          2.768249988555908,
          2.7082440853118896,
          2.6476569175720215,
          2.5874478816986084,
          2.5279600620269775,
          2.4674479961395264,
          2.4070820808410645,
          2.346235990524292,
          2.2860970497131348,
          2.226088047027588,
          2.1658570766448975,
          2.105341911315918,
          2.044908046722412,
          1.9857510328292847,
          1.9256019592285156,
          1.8654680252075195,
          1.8049709796905518,
          1.7446279525756836,
          1.6846120357513428,
          1.6240839958190918,
          1.5645090341567993,
          1.50449800491333,
          1.4450329542160034,
          1.3857990503311157,
          1.3267979621887207,
          1.268057942390442,
          1.2097879648208618,
          1.1517980098724365,
          1.0942790508270264,
          1.037039041519165,
          0.9804109930992126,
          0.924301028251648,
          0.8679310083389282,
          0.812004029750824,
          0.7568989992141724,
          0.7016599774360657,
          0.6467350125312805,
          0.5922979712486267,
          0.5379459857940674,
          0.48363301157951355,
          0.42910000681877136,
          0.3753789961338043,
          0.3212459981441498,
          0.2674170136451721,
          0.21361899375915527,
          0.15992499887943268,
          0.10638300329446793,
          0.053033001720905304,
          -0.0006479999865405262,
          -0.05413300171494484,
          -0.10716400295495987,
          -0.16062699258327484,
          -0.21377000212669373,
          -0.2670609951019287,
          -0.32026100158691406,
          -0.37313899397850037,
          -0.42623698711395264,
          -0.4791080057621002,
          -0.5323569774627686,
          -0.5851889848709106,
          -0.6380599737167358,
          -0.6910110116004944,
          -0.7442330121994019,
          -0.7968959808349609,
          -0.849711000919342,
          -0.9026020169258118,
          -0.955256998538971,
          -1.0083119869232178,
          -1.0616240501403809,
          -1.1140029430389404,
          -1.1667020320892334,
          -1.220945954322815,
          -1.2735170125961304,
          -1.3259520530700684,
          -1.3783169984817505,
          -1.4313139915466309,
          -1.4836829900741577,
          -1.5356090068817139,
          -1.5877749919891357,
          -1.6405409574508667,
          -1.6932259798049927,
          -1.7438369989395142,
          -1.7953039407730103,
          -1.8461780548095703,
          -1.8970119953155518,
          -1.9476829767227173,
          -1.9978530406951904,
          -2.0479300022125244,
          -2.0976200103759766,
          -2.147207021713257,
          -2.196371078491211,
          -2.2453079223632812,
          -2.294266939163208,
          -2.343035936355591
         ]
        },
        {
         "line": {
          "color": "red",
          "width": 2
         },
         "marker": {
          "color": "red",
          "size": 5
         },
         "mode": "lines+markers",
         "name": "Predicted Data (Second Half)",
         "type": "scatter3d",
         "x": [
          1.275783658027649,
          1.2795182466506958,
          1.256840705871582,
          1.264014720916748,
          1.2619342803955078,
          1.2572932243347168,
          1.2514840364456177,
          1.245144009590149,
          1.2388198375701904,
          1.2327343225479126,
          1.2293606996536255,
          1.2229028940200806,
          1.2179046869277954,
          1.2111878395080566,
          1.205742359161377,
          1.2007631063461304,
          1.1959757804870605,
          1.1904754638671875,
          1.1852107048034668,
          1.1810306310653687,
          1.176589012145996,
          1.1720391511917114,
          1.167629361152649,
          1.1629177331924438,
          1.157570719718933,
          1.153028130531311,
          1.1486902236938477,
          1.1439517736434937,
          1.1394884586334229,
          1.1351182460784912,
          1.1305186748504639,
          1.1261365413665771,
          1.1217896938323975,
          1.1173839569091797,
          1.1132699251174927,
          1.1092580556869507,
          1.1051125526428223,
          1.100314974784851,
          1.097461223602295,
          1.0926653146743774,
          1.0890495777130127,
          1.0840400457382202,
          1.0799282789230347,
          1.0766375064849854,
          1.072355031967163,
          1.0683053731918335,
          1.0639652013778687,
          1.0599474906921387,
          1.0556540489196777,
          1.0514719486236572,
          1.0471709966659546,
          1.042799949645996,
          1.0383485555648804,
          1.0338410139083862,
          1.029287338256836,
          1.0246987342834473,
          1.0200872421264648,
          1.0154645442962646,
          1.01084303855896,
          1.0062354803085327,
          1.0016555786132812,
          0.997117280960083,
          0.9926355481147766,
          0.9882262349128723,
          0.983905553817749,
          0.9796910285949707,
          0.9756011962890625,
          0.9716546535491943,
          0.9678712487220764,
          0.9642716646194458,
          0.9608772993087769,
          0.9577093124389648,
          0.9547897577285767,
          0.9521404504776001,
          0.9497832655906677,
          0.9477396607398987,
          0.9460301995277405,
          0.9446747303009033,
          0.9436913132667542,
          0.9430965185165405,
          0.9429051280021667,
          0.9431296586990356,
          0.9437792897224426,
          0.9448611736297607,
          0.9463787078857422,
          0.9483323097229004,
          0.9507189393043518,
          0.9535316824913025,
          0.9567595720291138,
          0.9603889584541321,
          0.964401364326477,
          0.9687747359275818,
          0.9734836220741272,
          0.9784994721412659,
          0.9837899208068848,
          0.9893197417259216,
          0.9950510859489441,
          1.0009437799453735,
          1.0069549083709717,
          1.0130404233932495
         ],
         "y": [
          1.2094941139221191,
          1.2619383335113525,
          1.3041963577270508,
          1.3264451026916504,
          1.3565564155578613,
          1.3892791271209717,
          1.4207639694213867,
          1.4503865242004395,
          1.4783899784088135,
          1.5059452056884766,
          1.5302510261535645,
          1.5569589138031006,
          1.5809803009033203,
          1.6061880588531494,
          1.6288771629333496,
          1.651104211807251,
          1.6724779605865479,
          1.6935958862304688,
          1.7144229412078857,
          1.735283613204956,
          1.7543468475341797,
          1.7736010551452637,
          1.7919888496398926,
          1.8102033138275146,
          1.8273823261260986,
          1.844391107559204,
          1.861999273300171,
          1.8779633045196533,
          1.8936569690704346,
          1.908884048461914,
          1.923459768295288,
          1.9374959468841553,
          1.9511291980743408,
          1.9641060829162598,
          1.9764344692230225,
          1.9880766868591309,
          1.9988815784454346,
          2.00878643989563,
          2.0183615684509277,
          2.0267326831817627,
          2.0345723628997803,
          2.040834426879883,
          2.0473217964172363,
          2.052684783935547,
          2.0571906566619873,
          2.060687780380249,
          2.0633926391601562,
          2.065444231033325,
          2.0667169094085693,
          2.0671937465667725,
          2.0671944618225098,
          2.0663483142852783,
          2.06461763381958,
          2.0619571208953857,
          2.058340072631836,
          2.05375337600708,
          2.0481929779052734,
          2.04166316986084,
          2.0341758728027344,
          2.0257482528686523,
          2.016404151916504,
          2.006171703338623,
          1.9950828552246094,
          1.983173131942749,
          1.9704818725585938,
          1.9570503234863281,
          1.9429235458374023,
          1.9281482696533203,
          1.9127728939056396,
          1.896848201751709,
          1.8804268836975098,
          1.8635632991790771,
          1.8463129997253418,
          1.8287327289581299,
          1.8108806610107422,
          1.7928154468536377,
          1.7745962142944336,
          1.7562825679779053,
          1.73793363571167,
          1.7196073532104492,
          1.7013607025146484,
          1.6832492351531982,
          1.66532564163208,
          1.6476402282714844,
          1.630239486694336,
          1.613166093826294,
          1.5964584350585938,
          1.5801503658294678,
          1.56427001953125,
          1.5488402843475342,
          1.5338783264160156,
          1.519395112991333,
          1.5053963661193848,
          1.4918811321258545,
          1.4788436889648438,
          1.4662723541259766,
          1.4541501998901367,
          1.4424552917480469,
          1.431161880493164,
          1.4202399253845215
         ],
         "z": [
          3.0748910903930664,
          3.029374837875366,
          2.946978807449341,
          2.896012544631958,
          2.8324079513549805,
          2.771588087081909,
          2.7119643688201904,
          2.652693033218384,
          2.5922272205352783,
          2.5319366455078125,
          2.4739208221435547,
          2.4113826751708984,
          2.3520352840423584,
          2.290004253387451,
          2.2310657501220703,
          2.171126365661621,
          2.1108710765838623,
          2.04990291595459,
          1.9893122911453247,
          1.9306343793869019,
          1.8703774213790894,
          1.8097037076950073,
          1.7489264011383057,
          1.688234806060791,
          1.6283096075057983,
          1.5673683881759644,
          1.5077276229858398,
          1.447778344154358,
          1.3883763551712036,
          1.329162836074829,
          1.2702385187149048,
          1.2116152048110962,
          1.1535173654556274,
          1.0957180261611938,
          1.0385552644729614,
          0.9815371632575989,
          0.9253545999526978,
          0.8696016073226929,
          0.8134304881095886,
          0.7574689984321594,
          0.7032208442687988,
          0.6479148864746094,
          0.5931701064109802,
          0.5394111275672913,
          0.48499223589897156,
          0.430911660194397,
          0.37614455819129944,
          0.3230326175689697,
          0.2686309218406677,
          0.21507225930690765,
          0.1637025773525238,
          0.11331760883331299,
          0.0639265775680542,
          0.015548274852335453,
          -0.031794533133506775,
          -0.078087717294693,
          -0.12332075834274292,
          -0.16748803853988647,
          -0.2105906754732132,
          -0.2526320219039917,
          -0.29362282156944275,
          -0.33357784152030945,
          -0.37251678109169006,
          -0.4104635715484619,
          -0.447446346282959,
          -0.4834969639778137,
          -0.5186519026756287,
          -0.5529511570930481,
          -0.5864351987838745,
          -0.6191505789756775,
          -0.6511437296867371,
          -0.6824650764465332,
          -0.713165283203125,
          -0.7432970404624939,
          -0.772914469242096,
          -0.8020725250244141,
          -0.8308262825012207,
          -0.8592306971549988,
          -0.8873413801193237,
          -0.9152125120162964,
          -0.9428961873054504,
          -0.9704453945159912,
          -0.9979078769683838,
          -1.0253323316574097,
          -1.052763819694519,
          -1.0802441835403442,
          -1.1078121662139893,
          -1.1355032920837402,
          -1.1633492708206177,
          -1.1913777589797974,
          -1.2196122407913208,
          -1.2480729818344116,
          -1.276775598526001,
          -1.3057323694229126,
          -1.3349506855010986,
          -1.364434003829956,
          -1.3941823244094849,
          -1.4241914749145508,
          -1.4544540643692017,
          -1.4849580526351929
         ]
        }
       ],
       "layout": {
        "scene": {
         "xaxis": {
          "title": {
           "text": "X"
          }
         },
         "yaxis": {
          "title": {
           "text": "Y"
          }
         },
         "zaxis": {
          "title": {
           "text": "Z"
          }
         }
        },
        "template": {
         "data": {
          "bar": [
           {
            "error_x": {
             "color": "#2a3f5f"
            },
            "error_y": {
             "color": "#2a3f5f"
            },
            "marker": {
             "line": {
              "color": "#E5ECF6",
              "width": 0.5
             },
             "pattern": {
              "fillmode": "overlay",
              "size": 10,
              "solidity": 0.2
             }
            },
            "type": "bar"
           }
          ],
          "barpolar": [
           {
            "marker": {
             "line": {
              "color": "#E5ECF6",
              "width": 0.5
             },
             "pattern": {
              "fillmode": "overlay",
              "size": 10,
              "solidity": 0.2
             }
            },
            "type": "barpolar"
           }
          ],
          "carpet": [
           {
            "aaxis": {
             "endlinecolor": "#2a3f5f",
             "gridcolor": "white",
             "linecolor": "white",
             "minorgridcolor": "white",
             "startlinecolor": "#2a3f5f"
            },
            "baxis": {
             "endlinecolor": "#2a3f5f",
             "gridcolor": "white",
             "linecolor": "white",
             "minorgridcolor": "white",
             "startlinecolor": "#2a3f5f"
            },
            "type": "carpet"
           }
          ],
          "choropleth": [
           {
            "colorbar": {
             "outlinewidth": 0,
             "ticks": ""
            },
            "type": "choropleth"
           }
          ],
          "contour": [
           {
            "colorbar": {
             "outlinewidth": 0,
             "ticks": ""
            },
            "colorscale": [
             [
              0,
              "#0d0887"
             ],
             [
              0.1111111111111111,
              "#46039f"
             ],
             [
              0.2222222222222222,
              "#7201a8"
             ],
             [
              0.3333333333333333,
              "#9c179e"
             ],
             [
              0.4444444444444444,
              "#bd3786"
             ],
             [
              0.5555555555555556,
              "#d8576b"
             ],
             [
              0.6666666666666666,
              "#ed7953"
             ],
             [
              0.7777777777777778,
              "#fb9f3a"
             ],
             [
              0.8888888888888888,
              "#fdca26"
             ],
             [
              1,
              "#f0f921"
             ]
            ],
            "type": "contour"
           }
          ],
          "contourcarpet": [
           {
            "colorbar": {
             "outlinewidth": 0,
             "ticks": ""
            },
            "type": "contourcarpet"
           }
          ],
          "heatmap": [
           {
            "colorbar": {
             "outlinewidth": 0,
             "ticks": ""
            },
            "colorscale": [
             [
              0,
              "#0d0887"
             ],
             [
              0.1111111111111111,
              "#46039f"
             ],
             [
              0.2222222222222222,
              "#7201a8"
             ],
             [
              0.3333333333333333,
              "#9c179e"
             ],
             [
              0.4444444444444444,
              "#bd3786"
             ],
             [
              0.5555555555555556,
              "#d8576b"
             ],
             [
              0.6666666666666666,
              "#ed7953"
             ],
             [
              0.7777777777777778,
              "#fb9f3a"
             ],
             [
              0.8888888888888888,
              "#fdca26"
             ],
             [
              1,
              "#f0f921"
             ]
            ],
            "type": "heatmap"
           }
          ],
          "heatmapgl": [
           {
            "colorbar": {
             "outlinewidth": 0,
             "ticks": ""
            },
            "colorscale": [
             [
              0,
              "#0d0887"
             ],
             [
              0.1111111111111111,
              "#46039f"
             ],
             [
              0.2222222222222222,
              "#7201a8"
             ],
             [
              0.3333333333333333,
              "#9c179e"
             ],
             [
              0.4444444444444444,
              "#bd3786"
             ],
             [
              0.5555555555555556,
              "#d8576b"
             ],
             [
              0.6666666666666666,
              "#ed7953"
             ],
             [
              0.7777777777777778,
              "#fb9f3a"
             ],
             [
              0.8888888888888888,
              "#fdca26"
             ],
             [
              1,
              "#f0f921"
             ]
            ],
            "type": "heatmapgl"
           }
          ],
          "histogram": [
           {
            "marker": {
             "pattern": {
              "fillmode": "overlay",
              "size": 10,
              "solidity": 0.2
             }
            },
            "type": "histogram"
           }
          ],
          "histogram2d": [
           {
            "colorbar": {
             "outlinewidth": 0,
             "ticks": ""
            },
            "colorscale": [
             [
              0,
              "#0d0887"
             ],
             [
              0.1111111111111111,
              "#46039f"
             ],
             [
              0.2222222222222222,
              "#7201a8"
             ],
             [
              0.3333333333333333,
              "#9c179e"
             ],
             [
              0.4444444444444444,
              "#bd3786"
             ],
             [
              0.5555555555555556,
              "#d8576b"
             ],
             [
              0.6666666666666666,
              "#ed7953"
             ],
             [
              0.7777777777777778,
              "#fb9f3a"
             ],
             [
              0.8888888888888888,
              "#fdca26"
             ],
             [
              1,
              "#f0f921"
             ]
            ],
            "type": "histogram2d"
           }
          ],
          "histogram2dcontour": [
           {
            "colorbar": {
             "outlinewidth": 0,
             "ticks": ""
            },
            "colorscale": [
             [
              0,
              "#0d0887"
             ],
             [
              0.1111111111111111,
              "#46039f"
             ],
             [
              0.2222222222222222,
              "#7201a8"
             ],
             [
              0.3333333333333333,
              "#9c179e"
             ],
             [
              0.4444444444444444,
              "#bd3786"
             ],
             [
              0.5555555555555556,
              "#d8576b"
             ],
             [
              0.6666666666666666,
              "#ed7953"
             ],
             [
              0.7777777777777778,
              "#fb9f3a"
             ],
             [
              0.8888888888888888,
              "#fdca26"
             ],
             [
              1,
              "#f0f921"
             ]
            ],
            "type": "histogram2dcontour"
           }
          ],
          "mesh3d": [
           {
            "colorbar": {
             "outlinewidth": 0,
             "ticks": ""
            },
            "type": "mesh3d"
           }
          ],
          "parcoords": [
           {
            "line": {
             "colorbar": {
              "outlinewidth": 0,
              "ticks": ""
             }
            },
            "type": "parcoords"
           }
          ],
          "pie": [
           {
            "automargin": true,
            "type": "pie"
           }
          ],
          "scatter": [
           {
            "fillpattern": {
             "fillmode": "overlay",
             "size": 10,
             "solidity": 0.2
            },
            "type": "scatter"
           }
          ],
          "scatter3d": [
           {
            "line": {
             "colorbar": {
              "outlinewidth": 0,
              "ticks": ""
             }
            },
            "marker": {
             "colorbar": {
              "outlinewidth": 0,
              "ticks": ""
             }
            },
            "type": "scatter3d"
           }
          ],
          "scattercarpet": [
           {
            "marker": {
             "colorbar": {
              "outlinewidth": 0,
              "ticks": ""
             }
            },
            "type": "scattercarpet"
           }
          ],
          "scattergeo": [
           {
            "marker": {
             "colorbar": {
              "outlinewidth": 0,
              "ticks": ""
             }
            },
            "type": "scattergeo"
           }
          ],
          "scattergl": [
           {
            "marker": {
             "colorbar": {
              "outlinewidth": 0,
              "ticks": ""
             }
            },
            "type": "scattergl"
           }
          ],
          "scattermapbox": [
           {
            "marker": {
             "colorbar": {
              "outlinewidth": 0,
              "ticks": ""
             }
            },
            "type": "scattermapbox"
           }
          ],
          "scatterpolar": [
           {
            "marker": {
             "colorbar": {
              "outlinewidth": 0,
              "ticks": ""
             }
            },
            "type": "scatterpolar"
           }
          ],
          "scatterpolargl": [
           {
            "marker": {
             "colorbar": {
              "outlinewidth": 0,
              "ticks": ""
             }
            },
            "type": "scatterpolargl"
           }
          ],
          "scatterternary": [
           {
            "marker": {
             "colorbar": {
              "outlinewidth": 0,
              "ticks": ""
             }
            },
            "type": "scatterternary"
           }
          ],
          "surface": [
           {
            "colorbar": {
             "outlinewidth": 0,
             "ticks": ""
            },
            "colorscale": [
             [
              0,
              "#0d0887"
             ],
             [
              0.1111111111111111,
              "#46039f"
             ],
             [
              0.2222222222222222,
              "#7201a8"
             ],
             [
              0.3333333333333333,
              "#9c179e"
             ],
             [
              0.4444444444444444,
              "#bd3786"
             ],
             [
              0.5555555555555556,
              "#d8576b"
             ],
             [
              0.6666666666666666,
              "#ed7953"
             ],
             [
              0.7777777777777778,
              "#fb9f3a"
             ],
             [
              0.8888888888888888,
              "#fdca26"
             ],
             [
              1,
              "#f0f921"
             ]
            ],
            "type": "surface"
           }
          ],
          "table": [
           {
            "cells": {
             "fill": {
              "color": "#EBF0F8"
             },
             "line": {
              "color": "white"
             }
            },
            "header": {
             "fill": {
              "color": "#C8D4E3"
             },
             "line": {
              "color": "white"
             }
            },
            "type": "table"
           }
          ]
         },
         "layout": {
          "annotationdefaults": {
           "arrowcolor": "#2a3f5f",
           "arrowhead": 0,
           "arrowwidth": 1
          },
          "autotypenumbers": "strict",
          "coloraxis": {
           "colorbar": {
            "outlinewidth": 0,
            "ticks": ""
           }
          },
          "colorscale": {
           "diverging": [
            [
             0,
             "#8e0152"
            ],
            [
             0.1,
             "#c51b7d"
            ],
            [
             0.2,
             "#de77ae"
            ],
            [
             0.3,
             "#f1b6da"
            ],
            [
             0.4,
             "#fde0ef"
            ],
            [
             0.5,
             "#f7f7f7"
            ],
            [
             0.6,
             "#e6f5d0"
            ],
            [
             0.7,
             "#b8e186"
            ],
            [
             0.8,
             "#7fbc41"
            ],
            [
             0.9,
             "#4d9221"
            ],
            [
             1,
             "#276419"
            ]
           ],
           "sequential": [
            [
             0,
             "#0d0887"
            ],
            [
             0.1111111111111111,
             "#46039f"
            ],
            [
             0.2222222222222222,
             "#7201a8"
            ],
            [
             0.3333333333333333,
             "#9c179e"
            ],
            [
             0.4444444444444444,
             "#bd3786"
            ],
            [
             0.5555555555555556,
             "#d8576b"
            ],
            [
             0.6666666666666666,
             "#ed7953"
            ],
            [
             0.7777777777777778,
             "#fb9f3a"
            ],
            [
             0.8888888888888888,
             "#fdca26"
            ],
            [
             1,
             "#f0f921"
            ]
           ],
           "sequentialminus": [
            [
             0,
             "#0d0887"
            ],
            [
             0.1111111111111111,
             "#46039f"
            ],
            [
             0.2222222222222222,
             "#7201a8"
            ],
            [
             0.3333333333333333,
             "#9c179e"
            ],
            [
             0.4444444444444444,
             "#bd3786"
            ],
            [
             0.5555555555555556,
             "#d8576b"
            ],
            [
             0.6666666666666666,
             "#ed7953"
            ],
            [
             0.7777777777777778,
             "#fb9f3a"
            ],
            [
             0.8888888888888888,
             "#fdca26"
            ],
            [
             1,
             "#f0f921"
            ]
           ]
          },
          "colorway": [
           "#636efa",
           "#EF553B",
           "#00cc96",
           "#ab63fa",
           "#FFA15A",
           "#19d3f3",
           "#FF6692",
           "#B6E880",
           "#FF97FF",
           "#FECB52"
          ],
          "font": {
           "color": "#2a3f5f"
          },
          "geo": {
           "bgcolor": "white",
           "lakecolor": "white",
           "landcolor": "#E5ECF6",
           "showlakes": true,
           "showland": true,
           "subunitcolor": "white"
          },
          "hoverlabel": {
           "align": "left"
          },
          "hovermode": "closest",
          "mapbox": {
           "style": "light"
          },
          "paper_bgcolor": "white",
          "plot_bgcolor": "#E5ECF6",
          "polar": {
           "angularaxis": {
            "gridcolor": "white",
            "linecolor": "white",
            "ticks": ""
           },
           "bgcolor": "#E5ECF6",
           "radialaxis": {
            "gridcolor": "white",
            "linecolor": "white",
            "ticks": ""
           }
          },
          "scene": {
           "xaxis": {
            "backgroundcolor": "#E5ECF6",
            "gridcolor": "white",
            "gridwidth": 2,
            "linecolor": "white",
            "showbackground": true,
            "ticks": "",
            "zerolinecolor": "white"
           },
           "yaxis": {
            "backgroundcolor": "#E5ECF6",
            "gridcolor": "white",
            "gridwidth": 2,
            "linecolor": "white",
            "showbackground": true,
            "ticks": "",
            "zerolinecolor": "white"
           },
           "zaxis": {
            "backgroundcolor": "#E5ECF6",
            "gridcolor": "white",
            "gridwidth": 2,
            "linecolor": "white",
            "showbackground": true,
            "ticks": "",
            "zerolinecolor": "white"
           }
          },
          "shapedefaults": {
           "line": {
            "color": "#2a3f5f"
           }
          },
          "ternary": {
           "aaxis": {
            "gridcolor": "white",
            "linecolor": "white",
            "ticks": ""
           },
           "baxis": {
            "gridcolor": "white",
            "linecolor": "white",
            "ticks": ""
           },
           "bgcolor": "#E5ECF6",
           "caxis": {
            "gridcolor": "white",
            "linecolor": "white",
            "ticks": ""
           }
          },
          "title": {
           "x": 0.05
          },
          "xaxis": {
           "automargin": true,
           "gridcolor": "white",
           "linecolor": "white",
           "ticks": "",
           "title": {
            "standoff": 15
           },
           "zerolinecolor": "white",
           "zerolinewidth": 2
          },
          "yaxis": {
           "automargin": true,
           "gridcolor": "white",
           "linecolor": "white",
           "ticks": "",
           "title": {
            "standoff": 15
           },
           "zerolinecolor": "white",
           "zerolinewidth": 2
          }
         }
        },
        "title": {
         "text": "Interactive 3D Trajectory: Actual (First Half) and Predicted (Second Half)"
        }
       }
      }
     },
     "metadata": {},
     "output_type": "display_data"
    }
   ],
   "source": [
    "# Extract x, y, z coordinates from the predictions\n",
    "predicted_x = prediction[:, 0]\n",
    "predicted_y = prediction[:, 1]\n",
    "predicted_z = prediction[:, 2]\n",
    "\n",
    "\n",
    "actual_x = position_data[:, 0]\n",
    "actual_y = position_data[:, 1]\n",
    "actual_z = position_data[:, 2]\n",
    "\n",
    "# Create the 3D line plot for the actual data (first half)\n",
    "trace_actual = go.Scatter3d(\n",
    "    x=actual_x,\n",
    "    y=actual_y,\n",
    "    z=actual_z,\n",
    "    mode='lines+markers',  # Both lines and markers\n",
    "    marker=dict(size=5, color='blue'),  # Marker size and color for actual data\n",
    "    line=dict(color='blue', width=2),  # Line color and width for actual data\n",
    "    name='Actual Data (First Half)'\n",
    ")\n",
    "\n",
    "# Create the 3D line plot for the predicted data (second half)\n",
    "trace_predicted = go.Scatter3d(\n",
    "    x=predicted_x,\n",
    "    y=predicted_y,\n",
    "    z=predicted_z,\n",
    "    mode='lines+markers',  # Both lines and markers\n",
    "    marker=dict(size=5, color='red'),  # Marker size and color for predicted data\n",
    "    line=dict(color='red', width=2),  # Line color and width for predicted data\n",
    "    name='Predicted Data (Second Half)'\n",
    ")\n",
    "\n",
    "# Create layout\n",
    "layout = go.Layout(\n",
    "    scene=dict(\n",
    "        xaxis_title='X',\n",
    "        yaxis_title='Y',\n",
    "        zaxis_title='Z'\n",
    "    ),\n",
    "    title=\"Interactive 3D Trajectory: Actual (First Half) and Predicted (Second Half)\"\n",
    ")\n",
    "\n",
    "# Create the figure with both traces and display it\n",
    "fig = go.Figure(data=[trace_actual, trace_predicted], layout=layout)\n",
    "fig.show()"
   ]
  },
  {
   "cell_type": "code",
   "execution_count": null,
   "metadata": {},
   "outputs": [],
   "source": []
  }
 ],
 "metadata": {
  "kernelspec": {
   "display_name": "dl",
   "language": "python",
   "name": "python3"
  },
  "language_info": {
   "codemirror_mode": {
    "name": "ipython",
    "version": 3
   },
   "file_extension": ".py",
   "mimetype": "text/x-python",
   "name": "python",
   "nbconvert_exporter": "python",
   "pygments_lexer": "ipython3",
   "version": "3.8.19"
  }
 },
 "nbformat": 4,
 "nbformat_minor": 2
}
